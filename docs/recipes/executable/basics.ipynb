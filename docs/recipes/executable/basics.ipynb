{
 "cells": [
  {
   "cell_type": "markdown",
   "id": "e2b70c0f",
   "metadata": {},
   "source": [
    "# Executable Code\n",
    "\n",
    "## Basics"
   ]
  },
  {
   "cell_type": "code",
   "execution_count": null,
   "id": "ed7af4c9",
   "metadata": {},
   "outputs": [],
   "source": [
    "1 + 3"
   ]
  },
  {
   "cell_type": "code",
   "execution_count": null,
   "id": "d2f74883",
   "metadata": {},
   "outputs": [],
   "source": [
    "a = 8**2"
   ]
  },
  {
   "cell_type": "code",
   "execution_count": null,
   "id": "a54b275e",
   "metadata": {},
   "outputs": [],
   "source": [
    "a"
   ]
  },
  {
   "cell_type": "markdown",
   "id": "299cf335",
   "metadata": {},
   "source": [
    "This cell has an excepted error:"
   ]
  },
  {
   "cell_type": "code",
   "execution_count": null,
   "id": "e1dd2725",
   "metadata": {
    "tags": [
     "raises-exception"
    ]
   },
   "outputs": [],
   "source": [
    "1 / 0"
   ]
  }
 ],
 "metadata": {
  "kernelspec": {
   "display_name": "Python 3 (ipykernel)",
   "language": "python",
   "name": "python3"
  }
 },
 "nbformat": 4,
 "nbformat_minor": 5
}
