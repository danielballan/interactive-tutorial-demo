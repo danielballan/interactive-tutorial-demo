{
 "cells": [
  {
   "cell_type": "markdown",
   "id": "58664cce",
   "metadata": {},
   "source": [
    "# Static Matplotlib Figures\n",
    "\n",
    "Specify the static Jupyter matplotlib integration. This must be run first, before any figures are created.\n",
    "\n",
    "This disables any interactivity, displaying only a PNG image of the figure in the Jupyter Lab view."
   ]
  },
  {
   "cell_type": "code",
   "execution_count": null,
   "id": "abf4cc39",
   "metadata": {},
   "outputs": [],
   "source": [
    "%matplotlib inline"
   ]
  },
  {
   "cell_type": "code",
   "execution_count": null,
   "id": "5b4cd165",
   "metadata": {},
   "outputs": [],
   "source": [
    "import matplotlib.pyplot as plt\n",
    "\n",
    "plt.plot([1,2,3,4])"
   ]
  },
  {
   "cell_type": "code",
   "execution_count": null,
   "id": "f44bfba4",
   "metadata": {},
   "outputs": [],
   "source": [
    "import matplotlib.pyplot as plt\n",
    "\n",
    "plt.plot([1,4,9,16])"
   ]
  }
 ],
 "metadata": {
  "kernelspec": {
   "display_name": "Python 3 (ipykernel)",
   "language": "python",
   "name": "python3"
  }
 },
 "nbformat": 4,
 "nbformat_minor": 5
}
