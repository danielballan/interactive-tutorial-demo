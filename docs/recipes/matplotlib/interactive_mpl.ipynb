{
 "cells": [
  {
   "cell_type": "markdown",
   "id": "7be67d28",
   "metadata": {},
   "source": [
    "# Interactive Matplotlib Figures\n",
    "\n",
    "Specify the interactive Jupyter matplotlib backend, backed by ipympl. This must be run first, before any figures are created."
   ]
  },
  {
   "cell_type": "code",
   "execution_count": null,
   "id": "988388af",
   "metadata": {},
   "outputs": [],
   "source": [
    "%matplotlib widget"
   ]
  },
  {
   "cell_type": "markdown",
   "id": "bcdf5938",
   "metadata": {},
   "source": [
    "Creating a new figure display an interactive canvas in Jupyter Lab.\n",
    "\n",
    "If we do nothing else, this will display a snapshot of the currently-blank canvas in the rendered HTML documentation. To avoid that, we edit the Markdown file so that the cell below has the tag `hide-output`. This places the figure in an expandable box, hidden by fault. Alternatively, we could use `remove-output` to fully remove it.\n",
    "\n",
    "````markdown\n",
    "```{code-cell} ipython3\n",
    ":tags: [hide-output]\n",
    "import matplotlib.pyplot as plt\n",
    "\n",
    "\n",
    "plt.plot([1,2,3])\n",
    "```\n",
    "````"
   ]
  },
  {
   "cell_type": "code",
   "execution_count": null,
   "id": "718fc60e",
   "metadata": {
    "tags": [
     "hide-output"
    ]
   },
   "outputs": [],
   "source": [
    "import matplotlib.pyplot as plt\n",
    "\n",
    "plt.figure()"
   ]
  },
  {
   "cell_type": "markdown",
   "id": "193a06ae",
   "metadata": {},
   "source": [
    "Plotting data to an existing figure updates the original interactive canvas in Jupyter Lab. Users can scroll up to pan and zoom.\n",
    "\n",
    "To show an updated snapshot in the rendered HTML documentation, we should call `plt.gcf()` to display the current Figure.\n",
    "\n",
    "```{caution}\n",
    "If you re-render the canvas---such as by displaying `plt.gcf().canvas`---that will cause the cached snapshot of the figures above to update to show the latest version of the figure, ruining the sequential narrative in the rendered HTML documentation.\n",
    "\n",
    "This is due to a detail of the matplotlib--Jupyter interaction. Just know to use `plt.gcf()` to safely show snapshots.\n",
    "```"
   ]
  },
  {
   "cell_type": "code",
   "execution_count": null,
   "id": "d5a9241e",
   "metadata": {},
   "outputs": [],
   "source": [
    "plt.plot([1, 2, 3, 4])"
   ]
  },
  {
   "cell_type": "code",
   "execution_count": null,
   "id": "2a2902d4",
   "metadata": {},
   "outputs": [],
   "source": [
    "plt.gcf()"
   ]
  },
  {
   "cell_type": "code",
   "execution_count": null,
   "id": "3d673007",
   "metadata": {},
   "outputs": [],
   "source": [
    "plt.plot([1, 4, 9, 16])\n",
    "plt.gcf()"
   ]
  }
 ],
 "metadata": {
  "kernelspec": {
   "display_name": "Python 3 (ipykernel)",
   "language": "python",
   "name": "python3"
  }
 },
 "nbformat": 4,
 "nbformat_minor": 5
}
